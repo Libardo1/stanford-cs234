{
 "cells": [
  {
   "cell_type": "markdown",
   "metadata": {},
   "source": [
    "# 1"
   ]
  },
  {
   "cell_type": "markdown",
   "metadata": {},
   "source": [
    "Eq. 1, the classic Q-learning update,"
   ]
  },
  {
   "cell_type": "markdown",
   "metadata": {},
   "source": [
    "$$ Q(s, a) = Q(s, a) + \\alpha\\big(r + \\gamma \\max_{a' \\in A} Q(s', a') - Q(s, a) \\big) $$"
   ]
  },
  {
   "cell_type": "markdown",
   "metadata": {},
   "source": [
    "Eq. 2, approximate setting for updating $\\hat q(s, a, w)$ function,"
   ]
  },
  {
   "cell_type": "markdown",
   "metadata": {},
   "source": [
    "$$w = w + \\alpha \\big(r + \\gamma \\max_{a' \\in A} \\hat q(s', a', w) - \\hat q(s, a, w)\\big) \\nabla_w \\hat q(s, a, w)$$"
   ]
  },
  {
   "cell_type": "markdown",
   "metadata": {},
   "source": [
    "Align them together for comparison,"
   ]
  },
  {
   "cell_type": "markdown",
   "metadata": {},
   "source": [
    "\\begin{align*}\n",
    "Q(s, a) = Q(s, a) &+ \\alpha\\big(r + \\gamma \\max_{a' \\in A} Q(s', a') - Q(s, a) \\big) \\\\\n",
    "w = w &+ \\alpha \\big(r + \\gamma \\max_{a' \\in A} \\hat q(s', a', w) - \\hat q(s, a, w)\\big) \\nabla_w \\hat q(s, a, w) \\\\\n",
    "\\end{align*}"
   ]
  },
  {
   "cell_type": "markdown",
   "metadata": {},
   "source": [
    "Given"
   ]
  },
  {
   "cell_type": "markdown",
   "metadata": {},
   "source": [
    "\\begin{align*}\n",
    "\\hat q(s, a, w) &= w^T x(s,a) \\\\\n",
    "\\end{align*}"
   ]
  },
  {
   "cell_type": "markdown",
   "metadata": {},
   "source": [
    "Then $$\\nabla_w \\hat q(s, a, w) = \\nabla_w{w^T x(s,a)} = x(s, a)$$"
   ]
  },
  {
   "cell_type": "markdown",
   "metadata": {},
   "source": [
    "Note that $x(s, a) \\in \\mathbb{R}$ is a one-hot vector, and $x(s, a)_{s', a'}$ is the one-hot element in the vector based on"
   ]
  },
  {
   "cell_type": "markdown",
   "metadata": {},
   "source": [
    "\\begin{equation}\n",
    "  x(s, a)_{s', a'}=\\begin{cases}\n",
    "    1 & \\text{if $s' = s, a' = a$}.\\\\\n",
    "    0 & \\text{otherwise}.\n",
    "  \\end{cases}\n",
    "\\end{equation}"
   ]
  },
  {
   "cell_type": "markdown",
   "metadata": {},
   "source": [
    "So $w^T x(s,a)$ is essentially the $(s, a)$th element in $w$, which is also the corresponding $q$ value. \n",
    "\n",
    "In other words, $w \\in \\mathbb{R}^{\\left|S\\right|\\left|A\\right|}$ is essentially a serialized table. \n",
    "\n",
    "Note we are using $(s, a)$ as an index here."
   ]
  },
  {
   "cell_type": "markdown",
   "metadata": {},
   "source": [
    "Then the second part of Eq. 2 can be rewritten as "
   ]
  },
  {
   "cell_type": "markdown",
   "metadata": {},
   "source": [
    "\\begin{align*}\n",
    "& \\alpha \\big(r + \\gamma \\max_{a' \\in A} \\hat q(s', a', w) - \\hat q(s, a, w)\\big) \\nabla_w \\hat q(s, a, w) \\\\\n",
    "&= \\alpha \\big(r + \\gamma \\max_{a' \\in A} w_{s', a'} - w_{s, a}) x(s, a)\n",
    "\\end{align*}"
   ]
  },
  {
   "cell_type": "markdown",
   "metadata": {},
   "source": [
    "which is also a one-hot vector. Therefore, updating $w$ with this one-hot vector only updates the $(s, a)$th element of $w$, so Eq. 2 can be equivalently written as"
   ]
  },
  {
   "cell_type": "markdown",
   "metadata": {},
   "source": [
    "$$ w_{s,a} = w_{s, a} + \\alpha \\big(r + \\gamma \\max_{a' \\in A} w_{s', a'} - w_{s, a})$$"
   ]
  },
  {
   "cell_type": "markdown",
   "metadata": {},
   "source": [
    "Rewrite $w_{s, a} = Q(s, a)$, then it becomes obvious Eq. 1 and Eq. 2 are exactly the same."
   ]
  },
  {
   "cell_type": "markdown",
   "metadata": {},
   "source": [
    "# 2"
   ]
  },
  {
   "cell_type": "markdown",
   "metadata": {},
   "source": [
    "Note in this problem, $x(s, a) \\rightarrow x \\in \\mathbb{R}$ could be any function."
   ]
  },
  {
   "cell_type": "markdown",
   "metadata": {},
   "source": [
    "\\begin{align*}\n",
    "w &= w + \\alpha \\big(r + \\gamma \\max_{a' \\in A} \\hat q(s', a', w) - \\hat q(s, a, w)\\big) \\nabla_w \\hat q(s, a, w) \\\\\n",
    "  &= w + \\alpha \\big(r + \\gamma \\max_{a' \\in A} w^T x(s’, a’)\\ - w^T x(s, a)\\big) \\nabla_w w^T x(s, a) \\\\\n",
    "  &= w + \\alpha \\big(r + \\gamma \\max_{a' \\in A} w^T x(s’, a’)\\ - w^T x(s, a)\\big) x(s, a)\n",
    "\\end{align*}"
   ]
  },
  {
   "cell_type": "markdown",
   "metadata": {},
   "source": [
    "# 3"
   ]
  },
  {
   "cell_type": "markdown",
   "metadata": {},
   "source": [
    "see `./q2_linear.py`"
   ]
  },
  {
   "cell_type": "markdown",
   "metadata": {},
   "source": [
    "# 4"
   ]
  },
  {
   "cell_type": "markdown",
   "metadata": {},
   "source": [
    "It does reach the optimal achievable reward 4.1 as computed in `./3-Setup-TestEnv.ipynb`"
   ]
  },
  {
   "cell_type": "code",
   "execution_count": 5,
   "metadata": {},
   "outputs": [
    {
     "data": {
      "image/png": "[encoded data removed]",
      "text/plain": [
       "<IPython.core.display.Image object>"
      ]
     },
     "execution_count": 5,
     "metadata": {
      "image/png": {
       "width": 400
      }
     },
     "output_type": "execute_result"
    }
   ],
   "source": [
    "from IPython.display import Image\n",
    "Image('./results/q2_linear/scores.png', width=400)"
   ]
  },
  {
   "cell_type": "code",
   "execution_count": null,
   "metadata": {},
   "outputs": [],
   "source": []
  }
 ],
 "metadata": {
  "kernelspec": {
   "display_name": "Python 3",
   "language": "python",
   "name": "python3"
  },
  "language_info": {
   "codemirror_mode": {
    "name": "ipython",
    "version": 3
   },
   "file_extension": ".py",
   "mimetype": "text/x-python",
   "name": "python",
   "nbconvert_exporter": "python",
   "pygments_lexer": "ipython3",
   "version": "3.5.5"
  }
 },
 "nbformat": 4,
 "nbformat_minor": 2
}
